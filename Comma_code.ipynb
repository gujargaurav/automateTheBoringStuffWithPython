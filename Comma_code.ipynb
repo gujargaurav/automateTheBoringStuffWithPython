{
  "nbformat": 4,
  "nbformat_minor": 0,
  "metadata": {
    "colab": {
      "name": "Comma code.ipynb",
      "provenance": []
    },
    "kernelspec": {
      "name": "python3",
      "display_name": "Python 3"
    }
  },
  "cells": [
    {
      "cell_type": "markdown",
      "metadata": {
        "id": "1hllnLH1ht7Y"
      },
      "source": [
        "## Comma Code \n",
        "Say you have a list value like this:spam = ['apples', 'bananas', 'tofu', 'cats']Write a function that takes a list value as an argument and returns a string with all the items separated by a comma and a space, with andinserted before the last item. For example, passing the previous spam list to the function would return 'apples, bananas, tofu, and cats'. But your func-tion should be able to work with any list value passed to it"
      ]
    },
    {
      "cell_type": "code",
      "metadata": {
        "id": "BBNcLvCeha3h",
        "outputId": "ec33d472-093a-40f5-c0cb-f32e8e9e08df",
        "colab": {
          "base_uri": "https://localhost:8080/"
        }
      },
      "source": [
        "def tostringlist(spam):\n",
        "  for i in spam:\n",
        "    print(i,end=\",\")\n",
        "spam = input().split()    \n",
        "#spam =  ['apples', 'bananas', 'tofu', 'cats']\n",
        "tostringlist(spam)    "
      ],
      "execution_count": null,
      "outputs": [
        {
          "output_type": "stream",
          "text": [
            "apple banana tofu cats\n",
            "apple,banana,tofu,cats,"
          ],
          "name": "stdout"
        }
      ]
    },
    {
      "cell_type": "markdown",
      "metadata": {
        "id": "xbKQDx7wlhOa"
      },
      "source": [
        "## Character Picture Grid\n",
        "Say you have a list of lists where each value in the inner lists is a one-character string, like this:\n",
        "grid = \n",
        "\n",
        "[['.', '.', '.', '.', '.', '.'],        \n",
        "['.', 'O', 'O', '.', '.', '.'],        \n",
        "['O', 'O', 'O', 'O', '.', '.'],        \n",
        "['O', 'O', 'O', 'O', 'O', '.'],        \n",
        "['.', 'O', 'O', 'O', 'O', 'O'],        \n",
        "['O', 'O', 'O', 'O', 'O', '.'],        \n",
        "['O', 'O', 'O', 'O', '.', '.'],        \n",
        "['.', 'O', 'O', '.', '.', '.'],        \n",
        "['.', '.', '.', '.', '.', '.']]\\\n",
        "You can think of grid[x][y] as being the character at the x- and y-coordinates of a “picture” drawn with text characters. The (0, 0) origin will be in the upper-left corner, the x-coordinates increase going right, andthe y-coordinates increase going down.Copy the previous grid value, and write code that uses it to print the \n",
        "image.\n",
        "\n",
        "..OO.OO..\n",
        "\n",
        ".OOOOOOO.\n",
        "\n",
        ".OOOOOOO.\n",
        "\n",
        "..OOOOO..\n",
        "\n",
        "...OOO...\n",
        "\n",
        "....O...."
      ]
    },
    {
      "cell_type": "code",
      "metadata": {
        "id": "awfWQ7pzipef"
      },
      "source": [
        " grid =[['.', '.', '.', '.', '.', '.'],\n",
        "['.', 'O', 'O', '.', '.', '.'],\n",
        "['O', 'O', 'O', 'O', '.', '.'],\n",
        "['O', 'O', 'O', 'O', 'O', '.'],\n",
        "['.', 'O', 'O', 'O', 'O', 'O'],\n",
        "['O', 'O', 'O', 'O', 'O', '.'],\n",
        "['O', 'O', 'O', 'O', '.', '.'],\n",
        "['.', 'O', 'O', '.', '.', '.'],\n",
        "['.', '.', '.', '.', '.', '.']]"
      ],
      "execution_count": null,
      "outputs": []
    },
    {
      "cell_type": "code",
      "metadata": {
        "id": "KkbDzimTnqUs",
        "outputId": "c946fb09-f055-41df-ecf1-f1b784a6ed3d",
        "colab": {
          "base_uri": "https://localhost:8080/"
        }
      },
      "source": [
        "grid"
      ],
      "execution_count": null,
      "outputs": [
        {
          "output_type": "execute_result",
          "data": {
            "text/plain": [
              "[['.', '.', '.', '.', '.', '.'],\n",
              " ['.', 'O', 'O', '.', '.', '.'],\n",
              " ['O', 'O', 'O', 'O', '.', '.'],\n",
              " ['O', 'O', 'O', 'O', 'O', '.'],\n",
              " ['.', 'O', 'O', 'O', 'O', 'O'],\n",
              " ['O', 'O', 'O', 'O', 'O', '.'],\n",
              " ['O', 'O', 'O', 'O', '.', '.'],\n",
              " ['.', 'O', 'O', '.', '.', '.'],\n",
              " ['.', '.', '.', '.', '.', '.']]"
            ]
          },
          "metadata": {
            "tags": []
          },
          "execution_count": 15
        }
      ]
    },
    {
      "cell_type": "code",
      "metadata": {
        "id": "lZkDI7NBnvCL"
      },
      "source": [
        ""
      ],
      "execution_count": null,
      "outputs": []
    }
  ]
}