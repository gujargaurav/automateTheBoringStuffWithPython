{
  "nbformat": 4,
  "nbformat_minor": 0,
  "metadata": {
    "colab": {
      "name": "ATBSWP_chapter3_project.ipynb",
      "provenance": []
    },
    "kernelspec": {
      "name": "python3",
      "display_name": "Python 3"
    }
  },
  "cells": [
    {
      "cell_type": "markdown",
      "metadata": {
        "id": "U4WzT8BUMyO_"
      },
      "source": [
        "## **The Collatz Sequence**"
      ]
    },
    {
      "cell_type": "markdown",
      "metadata": {
        "id": "j_2R3x9zM4DB"
      },
      "source": [
        "Write a function named collatz() that has one parameter named number. If number is even, then collatz() should print number // 2 and return this value. If number is odd, then collatz() should print and return 3 * number + 1.\n",
        "\n",
        "Then write a program that lets the user type in an integer and that keeps calling collatz() on that number until the function returns the value 1. (Amazingly enough, this sequence actually works for any integer—sooner or later, using this sequence, you’ll arrive at 1! Even mathematicians aren’t sure why. Your program is exploring what’s called the Collatz sequence, some-times called “the simplest impossible math problem.”)\n",
        "\n",
        "Remember to convert the return value from input() to an integer with the int() function; otherwise, it will be a string value.Hint: An integer number is even if number % 2 == 0, and it’s odd if number % 2 == 1.\n",
        "\n",
        "The output of this program could look something like this:\n",
        "\n",
        "Enter number:\n",
        "\n",
        "3 \\\n",
        "10 \\\n",
        "5 \\\n",
        "16 \\\n",
        "8 \\\n",
        "4 \\\n",
        "2 \\\n",
        "1 \\"
      ]
    },
    {
      "cell_type": "code",
      "metadata": {
        "id": "SIf7o9LK9FEG"
      },
      "source": [
        "def collatz(no):\n",
        "  if (no % 2 == 0):\n",
        "    print(no//2)\n",
        "  else :\n",
        "    print(3*no+1)  \n",
        "\n",
        "  return int(3*no+1)  \n"
      ],
      "execution_count": 2,
      "outputs": []
    },
    {
      "cell_type": "code",
      "metadata": {
        "id": "4Af9FYF9e9KF",
        "outputId": "30145835-c935-46ca-e746-4667e417284d",
        "colab": {
          "base_uri": "https://localhost:8080/",
          "height": 201
        }
      },
      "source": [
        "while i != 1:\n",
        "  i = int(input(\"Enter number :\"))\n",
        "  if (collatz(i) == 1):\n",
        "    break\n",
        "  else:\n",
        "    continue  \n",
        "\n"
      ],
      "execution_count": 5,
      "outputs": [
        {
          "output_type": "stream",
          "text": [
            "Enter number :3\n",
            "10\n",
            "Enter number :5\n",
            "16\n",
            "Enter number :8\n",
            "4\n",
            "Enter number :2\n",
            "1\n",
            "Enter number :0\n",
            "0\n"
          ],
          "name": "stdout"
        }
      ]
    },
    {
      "cell_type": "code",
      "metadata": {
        "id": "f0E_9M3ygj5o"
      },
      "source": [
        ""
      ],
      "execution_count": null,
      "outputs": []
    }
  ]
}